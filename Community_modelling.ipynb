{
 "cells": [
  {
   "cell_type": "code",
   "execution_count": 1,
   "id": "322ca82f",
   "metadata": {},
   "outputs": [],
   "source": [
    "# import library\n",
    "import cobra\n",
    "import sys\n",
    "import os"
   ]
  },
  {
   "cell_type": "code",
   "execution_count": 2,
   "id": "54438b4a",
   "metadata": {},
   "outputs": [],
   "source": [
    "# import the models\n",
    "model1 = cobra.io.read_sbml_model(r'L_Ruminis.xml')\n",
    "model2 = cobra.io.read_sbml_model(r'P_Copri.xml')\n",
    "model3 = cobra.io.read_sbml_model(r'M_smithii.xml')\n",
    "model4 = cobra.io.read_sbml_model(r'F_prausnitzii.xml')"
   ]
  },
  {
   "cell_type": "code",
   "execution_count": 3,
   "id": "7c825e9d",
   "metadata": {},
   "outputs": [
    {
     "name": "stdout",
     "output_type": "stream",
     "text": [
      "1176\n",
      "1227\n",
      "936\n"
     ]
    },
    {
     "data": {
      "text/plain": [
       "0.01207024263116927"
      ]
     },
     "execution_count": 3,
     "metadata": {},
     "output_type": "execute_result"
    }
   ],
   "source": [
    "print(len(model1.reactions))\n",
    "print(len(model1.metabolites))\n",
    "print(len(model1.genes))\n",
    "\n",
    "#optimising the value#\n",
    "solution=model1.optimize()\n",
    "solution.objective_value"
   ]
  },
  {
   "cell_type": "code",
   "execution_count": 4,
   "id": "e49c1835",
   "metadata": {},
   "outputs": [
    {
     "name": "stdout",
     "output_type": "stream",
     "text": [
      "1148\n",
      "1214\n",
      "1034\n"
     ]
    },
    {
     "data": {
      "text/plain": [
       "0.7969098526599544"
      ]
     },
     "execution_count": 4,
     "metadata": {},
     "output_type": "execute_result"
    }
   ],
   "source": [
    "print(len(model2.reactions))\n",
    "print(len(model2.metabolites))\n",
    "print(len(model2.genes))\n",
    "\n",
    "#optimising the value#\n",
    "solution=model2.optimize()\n",
    "solution.objective_value"
   ]
  },
  {
   "cell_type": "code",
   "execution_count": 5,
   "id": "0e061394",
   "metadata": {},
   "outputs": [
    {
     "name": "stdout",
     "output_type": "stream",
     "text": [
      "996\n",
      "1110\n",
      "574\n"
     ]
    },
    {
     "data": {
      "text/plain": [
       "0.2516847329342751"
      ]
     },
     "execution_count": 5,
     "metadata": {},
     "output_type": "execute_result"
    }
   ],
   "source": [
    "print(len(model3.reactions))\n",
    "print(len(model3.metabolites))\n",
    "print(len(model3.genes))\n",
    "\n",
    "#optimising the value#\n",
    "solution=model3.optimize()\n",
    "solution.objective_value"
   ]
  },
  {
   "cell_type": "code",
   "execution_count": 6,
   "id": "13568ad3",
   "metadata": {},
   "outputs": [
    {
     "name": "stdout",
     "output_type": "stream",
     "text": [
      "1111\n",
      "1212\n",
      "1108\n"
     ]
    },
    {
     "data": {
      "text/plain": [
       "0.33100615775008974"
      ]
     },
     "execution_count": 6,
     "metadata": {},
     "output_type": "execute_result"
    }
   ],
   "source": [
    "print(len(model4.reactions))\n",
    "print(len(model4.metabolites))\n",
    "print(len(model4.genes))\n",
    "\n",
    "#optimising the value#\n",
    "solution=model4.optimize()\n",
    "solution.objective_value"
   ]
  },
  {
   "cell_type": "code",
   "execution_count": 7,
   "id": "95801ce6",
   "metadata": {},
   "outputs": [],
   "source": [
    "# Compartmentalization"
   ]
  },
  {
   "cell_type": "code",
   "execution_count": 8,
   "id": "fef4ede4",
   "metadata": {},
   "outputs": [
    {
     "name": "stdout",
     "output_type": "stream",
     "text": [
      "467\n"
     ]
    }
   ],
   "source": [
    "count=0\n",
    "for i in model1.genes:\n",
    "    #if(str(i.id)==\"EX_cpd11416_c0\"):continue\n",
    "    if(str(i.id)[0]==\"6\"):\n",
    "        j=str(i.id)+\"lr\"\n",
    "        i.id=j\n",
    "        count=count+1\n",
    "print(count)"
   ]
  },
  {
   "cell_type": "code",
   "execution_count": 9,
   "id": "0313bf9c",
   "metadata": {},
   "outputs": [
    {
     "name": "stdout",
     "output_type": "stream",
     "text": [
      "468\n"
     ]
    }
   ],
   "source": [
    "count=0\n",
    "for i in model1.genes:\n",
    "    #if(str(i.id)==\"EX_cpd11416_c0\"):continue\n",
    "    if(str(i.id)[0]==\"f\"):\n",
    "        j=str(i.id)+\"lr\"\n",
    "        i.id=j\n",
    "        count=count+1\n",
    "print(count)"
   ]
  },
  {
   "cell_type": "code",
   "execution_count": 10,
   "id": "680952fd",
   "metadata": {},
   "outputs": [
    {
     "name": "stdout",
     "output_type": "stream",
     "text": [
      "516\n"
     ]
    }
   ],
   "source": [
    "count=0\n",
    "for i in model2.genes:\n",
    "    #if(str(i.id)==\"EX_cpd11416_c0\"):continue\n",
    "    if(str(i.id)[0]==\"6\"):\n",
    "        j=str(i.id)+\"pc\"\n",
    "        i.id=j\n",
    "        count=count+1\n",
    "print(count)"
   ]
  },
  {
   "cell_type": "code",
   "execution_count": 11,
   "id": "5965b768",
   "metadata": {},
   "outputs": [
    {
     "name": "stdout",
     "output_type": "stream",
     "text": [
      "517\n"
     ]
    }
   ],
   "source": [
    "count=0\n",
    "for i in model2.genes:\n",
    "    #if(str(i.id)==\"EX_cpd11416_c0\"):continue\n",
    "    if(str(i.id)[0]==\"f\"):\n",
    "        j=str(i.id)+\"pc\"\n",
    "        i.id=j\n",
    "        count=count+1\n",
    "print(count)"
   ]
  },
  {
   "cell_type": "code",
   "execution_count": 12,
   "id": "465fe259",
   "metadata": {},
   "outputs": [
    {
     "name": "stdout",
     "output_type": "stream",
     "text": [
      "286\n"
     ]
    }
   ],
   "source": [
    "count=0\n",
    "for i in model3.genes:\n",
    "    #if(str(i.id)==\"EX_cpd11416_c0\"):continue\n",
    "    if(str(i.id)[0]==\"6\"):\n",
    "        j=str(i.id)+\"ms\"\n",
    "        i.id=j\n",
    "        count=count+1\n",
    "print(count)"
   ]
  },
  {
   "cell_type": "code",
   "execution_count": 13,
   "id": "84a13519",
   "metadata": {},
   "outputs": [
    {
     "name": "stdout",
     "output_type": "stream",
     "text": [
      "287\n"
     ]
    }
   ],
   "source": [
    "count=0\n",
    "for i in model3.genes:\n",
    "    #if(str(i.id)==\"EX_cpd11416_c0\"):continue\n",
    "    if(str(i.id)[0]==\"f\"):\n",
    "        j=str(i.id)+\"ms\"\n",
    "        i.id=j\n",
    "        count=count+1\n",
    "print(count)"
   ]
  },
  {
   "cell_type": "code",
   "execution_count": 14,
   "id": "df371ad0",
   "metadata": {},
   "outputs": [
    {
     "name": "stdout",
     "output_type": "stream",
     "text": [
      "553\n"
     ]
    }
   ],
   "source": [
    "count=0\n",
    "for i in model4.genes:\n",
    "    #if(str(i.id)==\"EX_cpd11416_c0\"):continue\n",
    "    if(str(i.id)[0]==\"6\"):\n",
    "        j=str(i.id)+\"fp\"\n",
    "        i.id=j\n",
    "        count=count+1\n",
    "print(count)"
   ]
  },
  {
   "cell_type": "code",
   "execution_count": 15,
   "id": "df0dc8e2",
   "metadata": {},
   "outputs": [
    {
     "name": "stdout",
     "output_type": "stream",
     "text": [
      "554\n"
     ]
    }
   ],
   "source": [
    "count=0\n",
    "for i in model4.genes:\n",
    "    #if(str(i.id)==\"EX_cpd11416_c0\"):continue\n",
    "    if(str(i.id)[0]==\"f\"):\n",
    "        j=str(i.id)+\"fp\"\n",
    "        i.id=j\n",
    "        count=count+1\n",
    "print(count)"
   ]
  },
  {
   "cell_type": "code",
   "execution_count": 16,
   "id": "94da181a",
   "metadata": {},
   "outputs": [],
   "source": [
    "for i in model1.metabolites:\n",
    "    if(str(i)[-2]==\"c\"):\n",
    "        j=str(i)+\"lr\"\n",
    "        i.id=j\n",
    "        i.compartment=\"c0lr\""
   ]
  },
  {
   "cell_type": "code",
   "execution_count": 17,
   "id": "27c4ff2b",
   "metadata": {},
   "outputs": [],
   "source": [
    "for i in model2.metabolites:\n",
    "    if(str(i)[-2]==\"c\"):\n",
    "        j=str(i)+\"pc\"\n",
    "        i.id=j\n",
    "        i.compartment=\"c0pc\""
   ]
  },
  {
   "cell_type": "code",
   "execution_count": 18,
   "id": "55370fb1",
   "metadata": {},
   "outputs": [],
   "source": [
    "for i in model3.metabolites:\n",
    "    if(str(i)[-2]==\"c\"):\n",
    "        j=str(i)+\"ms\"\n",
    "        i.id=j\n",
    "        i.compartment=\"c0ms\""
   ]
  },
  {
   "cell_type": "code",
   "execution_count": 19,
   "id": "37f1d1f7",
   "metadata": {},
   "outputs": [],
   "source": [
    "for i in model4.metabolites:\n",
    "    if(str(i)[-2]==\"c\"):\n",
    "        j=str(i)+\"fp\"\n",
    "        i.id=j\n",
    "        i.compartment=\"c0fp\""
   ]
  },
  {
   "cell_type": "code",
   "execution_count": 20,
   "id": "06491c36",
   "metadata": {},
   "outputs": [
    {
     "name": "stdout",
     "output_type": "stream",
     "text": [
      "1041\n"
     ]
    }
   ],
   "source": [
    "count=0\n",
    "for i in model1.reactions:\n",
    "    if(str(i.id)[0]==\"r\"):\n",
    "        j=str(i.id)+\"lr\"\n",
    "        i.id=j\n",
    "        count=count+1\n",
    "print(count)"
   ]
  },
  {
   "cell_type": "code",
   "execution_count": 21,
   "id": "02214b05",
   "metadata": {},
   "outputs": [
    {
     "name": "stdout",
     "output_type": "stream",
     "text": [
      "989\n"
     ]
    }
   ],
   "source": [
    "count=0\n",
    "for i in model2.reactions:\n",
    "    if(str(i.id)[0]==\"r\"):\n",
    "        j=str(i.id)+\"pc\"\n",
    "        i.id=j\n",
    "        count=count+1\n",
    "print(count)"
   ]
  },
  {
   "cell_type": "code",
   "execution_count": 22,
   "id": "9dd30813",
   "metadata": {},
   "outputs": [
    {
     "name": "stdout",
     "output_type": "stream",
     "text": [
      "824\n"
     ]
    }
   ],
   "source": [
    "count=0\n",
    "for i in model3.reactions:\n",
    "    if(str(i.id)[0]==\"r\"):\n",
    "        j=str(i.id)+\"ms\"\n",
    "        i.id=j\n",
    "        count=count+1\n",
    "print(count)"
   ]
  },
  {
   "cell_type": "code",
   "execution_count": 23,
   "id": "50e85edd",
   "metadata": {},
   "outputs": [
    {
     "name": "stdout",
     "output_type": "stream",
     "text": [
      "998\n"
     ]
    }
   ],
   "source": [
    "count=0\n",
    "for i in model4.reactions:\n",
    "    if(str(i.id)[0]==\"r\"):\n",
    "        j=str(i.id)+\"fp\"\n",
    "        i.id=j\n",
    "        count=count+1\n",
    "print(count)"
   ]
  },
  {
   "cell_type": "code",
   "execution_count": 24,
   "id": "d780f3ff",
   "metadata": {},
   "outputs": [
    {
     "name": "stdout",
     "output_type": "stream",
     "text": [
      "1\n"
     ]
    }
   ],
   "source": [
    "count=0\n",
    "for i in model1.reactions:\n",
    "    if(str(i.id)==\"bio1\"):\n",
    "        j=str(i.id)+\"lr\"\n",
    "        i.id=j\n",
    "        count=count+1\n",
    "print(count)"
   ]
  },
  {
   "cell_type": "code",
   "execution_count": 25,
   "id": "5e0e751a",
   "metadata": {},
   "outputs": [
    {
     "name": "stdout",
     "output_type": "stream",
     "text": [
      "1\n"
     ]
    }
   ],
   "source": [
    "count=0\n",
    "for i in model2.reactions:\n",
    "    if(str(i.id)==\"bio1\"):\n",
    "        j=str(i.id)+\"pc\"\n",
    "        i.id=j\n",
    "        count=count+1\n",
    "print(count)"
   ]
  },
  {
   "cell_type": "code",
   "execution_count": 26,
   "id": "7d11e643",
   "metadata": {},
   "outputs": [
    {
     "name": "stdout",
     "output_type": "stream",
     "text": [
      "1\n"
     ]
    }
   ],
   "source": [
    "count=0\n",
    "for i in model3.reactions:\n",
    "    if(str(i.id)==\"bio1\"):\n",
    "        j=str(i.id)+\"ms\"\n",
    "        i.id=j\n",
    "        count=count+1\n",
    "print(count)"
   ]
  },
  {
   "cell_type": "code",
   "execution_count": 27,
   "id": "9d7d4e9a",
   "metadata": {},
   "outputs": [
    {
     "name": "stdout",
     "output_type": "stream",
     "text": [
      "1\n"
     ]
    }
   ],
   "source": [
    "count=0\n",
    "for i in model4.reactions:\n",
    "    if(str(i.id)==\"bio1\"):\n",
    "        j=str(i.id)+\"fp\"\n",
    "        i.id=j\n",
    "        count=count+1\n",
    "print(count)"
   ]
  },
  {
   "cell_type": "code",
   "execution_count": 28,
   "id": "9d3e13b0",
   "metadata": {},
   "outputs": [
    {
     "name": "stdout",
     "output_type": "stream",
     "text": [
      "2\n"
     ]
    }
   ],
   "source": [
    "count=0\n",
    "for i in model1.reactions:\n",
    "    if(str(i.id)==\"EX_cpd11416_c0\"):continue\n",
    "    if(str(i.id)[0]==\"E\" and str(i.id)[-2]==\"c\"):\n",
    "        j=str(i.id)+\"lr\"\n",
    "        i.id=j\n",
    "        count=count+1\n",
    "print(count)"
   ]
  },
  {
   "cell_type": "code",
   "execution_count": 29,
   "id": "4784ccd1",
   "metadata": {},
   "outputs": [
    {
     "name": "stdout",
     "output_type": "stream",
     "text": [
      "2\n"
     ]
    }
   ],
   "source": [
    "count=0\n",
    "for i in model2.reactions:\n",
    "    if(str(i.id)==\"EX_cpd11416_c0\"):continue\n",
    "    if(str(i.id)[0]==\"E\" and str(i.id)[-2]==\"c\"):\n",
    "        j=str(i.id)+\"pc\"\n",
    "        i.id=j\n",
    "        count=count+1\n",
    "print(count)"
   ]
  },
  {
   "cell_type": "code",
   "execution_count": 30,
   "id": "b817c800",
   "metadata": {},
   "outputs": [
    {
     "name": "stdout",
     "output_type": "stream",
     "text": [
      "0\n"
     ]
    }
   ],
   "source": [
    "count=0\n",
    "for i in model3.reactions:\n",
    "    if(str(i.id)==\"EX_cpd11416_c0\"):continue\n",
    "    if(str(i.id)[0]==\"E\" and str(i.id)[-2]==\"c\"):\n",
    "        j=str(i.id)+\"ms\"\n",
    "        i.id=j\n",
    "        count=count+1\n",
    "print(count)"
   ]
  },
  {
   "cell_type": "code",
   "execution_count": 31,
   "id": "f313a0c8",
   "metadata": {},
   "outputs": [
    {
     "name": "stdout",
     "output_type": "stream",
     "text": [
      "2\n"
     ]
    }
   ],
   "source": [
    "count=0\n",
    "for i in model4.reactions:\n",
    "    if(str(i.id)==\"EX_cpd11416_c0\"):continue\n",
    "    if(str(i.id)[0]==\"E\" and str(i.id)[-2]==\"c\"):\n",
    "        j=str(i.id)+\"fp\"\n",
    "        i.id=j\n",
    "        count=count+1\n",
    "print(count)"
   ]
  },
  {
   "cell_type": "code",
   "execution_count": 32,
   "id": "606a9335",
   "metadata": {},
   "outputs": [
    {
     "name": "stdout",
     "output_type": "stream",
     "text": [
      "1175\n"
     ]
    }
   ],
   "source": [
    "from cobra import Model, Reaction, Metabolite, Gene\n",
    "model = Model('Gut_community_model')\n",
    "count=0\n",
    "for i in model1.reactions:\n",
    "    if(str(i.id)==\"EX_cpd11416_c0\"):\n",
    "        continue\n",
    "    reaction=model1.reactions.get_by_id(str(i.id))\n",
    "    reaction.reaction\n",
    "    count=count+1\n",
    "    model.add_reactions([reaction])\n",
    "        \n",
    "print(count)"
   ]
  },
  {
   "cell_type": "code",
   "execution_count": 33,
   "id": "3df0d76e",
   "metadata": {},
   "outputs": [
    {
     "name": "stderr",
     "output_type": "stream",
     "text": [
      "Ignoring reaction 'EX_cpd11416_b' since it already exists.\n",
      "Ignoring reaction 'EX_cpd00067_b' since it already exists.\n",
      "Ignoring reaction 'EX_cpd00001_b' since it already exists.\n",
      "Ignoring reaction 'EX_cpd00971_b' since it already exists.\n",
      "Ignoring reaction 'EX_cpd00058_b' since it already exists.\n",
      "Ignoring reaction 'EX_cpd00013_b' since it already exists.\n",
      "Ignoring reaction 'EX_cpd00034_b' since it already exists.\n",
      "Ignoring reaction 'EX_cpd00027_b' since it already exists.\n",
      "Ignoring reaction 'EX_cpd00254_b' since it already exists.\n",
      "Ignoring reaction 'EX_cpd00159_b' since it already exists.\n",
      "Ignoring reaction 'EX_cpd00009_b' since it already exists.\n",
      "Ignoring reaction 'EX_cpd10516_b' since it already exists.\n",
      "Ignoring reaction 'EX_cpd00099_b' since it already exists.\n",
      "Ignoring reaction 'EX_cpd00048_b' since it already exists.\n",
      "Ignoring reaction 'EX_cpd00007_b' since it already exists.\n",
      "Ignoring reaction 'EX_cpd00205_b' since it already exists.\n",
      "Ignoring reaction 'EX_cpd00011_b' since it already exists.\n",
      "Ignoring reaction 'EX_cpd00220_b' since it already exists.\n",
      "Ignoring reaction 'EX_cpd00149_b' since it already exists.\n",
      "Ignoring reaction 'EX_cpd00063_b' since it already exists.\n",
      "Ignoring reaction 'EX_cpd00030_b' since it already exists.\n",
      "Ignoring reaction 'EX_cpd00322_b' since it already exists.\n",
      "Ignoring reaction 'EX_cpd00528_b' since it already exists.\n",
      "Ignoring reaction 'EX_cpd00067_e0' since it already exists.\n",
      "Ignoring reaction 'EX_cpd04097_e0' since it already exists.\n",
      "Ignoring reaction 'EX_cpd01012_e0' since it already exists.\n",
      "Ignoring reaction 'EX_cpd00001_e0' since it already exists.\n",
      "Ignoring reaction 'EX_cpd00971_e0' since it already exists.\n",
      "Ignoring reaction 'EX_cpd00058_e0' since it already exists.\n",
      "Ignoring reaction 'EX_cpd00013_e0' since it already exists.\n",
      "Ignoring reaction 'EX_cpd00034_e0' since it already exists.\n",
      "Ignoring reaction 'EX_cpd01171_e0' since it already exists.\n",
      "Ignoring reaction 'EX_cpd00309_e0' since it already exists.\n",
      "Ignoring reaction 'EX_cpd00254_e0' since it already exists.\n",
      "Ignoring reaction 'EX_cpd00009_e0' since it already exists.\n",
      "Ignoring reaction 'EX_cpd10516_e0' since it already exists.\n",
      "Ignoring reaction 'EX_cpd00099_e0' since it already exists.\n",
      "Ignoring reaction 'EX_cpd00531_e0' since it already exists.\n",
      "Ignoring reaction 'EX_cpd00226_e0' since it already exists.\n",
      "Ignoring reaction 'EX_cpd00048_e0' since it already exists.\n",
      "Ignoring reaction 'EX_cpd00007_e0' since it already exists.\n",
      "Ignoring reaction 'EX_cpd00205_e0' since it already exists.\n",
      "Ignoring reaction 'EX_cpd00039_e0' since it already exists.\n",
      "Ignoring reaction 'EX_cpd00011_e0' since it already exists.\n",
      "Ignoring reaction 'EX_cpd00220_e0' since it already exists.\n",
      "Ignoring reaction 'EX_cpd00149_e0' since it already exists.\n",
      "Ignoring reaction 'EX_cpd11606_e0' since it already exists.\n",
      "Ignoring reaction 'EX_cpd00063_e0' since it already exists.\n",
      "Ignoring reaction 'EX_cpd01080_e0' since it already exists.\n",
      "Ignoring reaction 'EX_cpd15606_e0' since it already exists.\n",
      "Ignoring reaction 'EX_cpd00030_e0' since it already exists.\n",
      "Ignoring reaction 'EX_cpd00305_e0' since it already exists.\n",
      "Ignoring reaction 'EX_cpd15605_e0' since it already exists.\n",
      "Ignoring reaction 'EX_cpd00322_e0' since it already exists.\n",
      "Ignoring reaction 'EX_cpd00028_e0' since it already exists.\n",
      "Ignoring reaction 'EX_cpd00528_e0' since it already exists.\n",
      "Ignoring reaction 'EX_cpd00264_e0' since it already exists.\n",
      "Ignoring reaction 'EX_cpd11591_e0' since it already exists.\n",
      "Ignoring reaction 'EX_cpd00071_b' since it already exists.\n",
      "Ignoring reaction 'EX_cpd00239_b' since it already exists.\n",
      "Ignoring reaction 'EX_cpd00793_b' since it already exists.\n",
      "Ignoring reaction 'EX_cpd00047_b' since it already exists.\n",
      "Ignoring reaction 'EX_cpd00029_b' since it already exists.\n",
      "Ignoring reaction 'EX_cpd00055_b' since it already exists.\n",
      "Ignoring reaction 'EX_cpd00055_e0' since it already exists.\n",
      "Ignoring reaction 'EX_cpd00085_b' since it already exists.\n",
      "Ignoring reaction 'EX_cpd00085_e0' since it already exists.\n",
      "Ignoring reaction 'EX_cpd02882_b' since it already exists.\n",
      "Ignoring reaction 'EX_cpd02882_e0' since it already exists.\n",
      "Ignoring reaction 'EX_cpd00215_b' since it already exists.\n",
      "Ignoring reaction 'EX_cpd00215_e0' since it already exists.\n",
      "Ignoring reaction 'EX_cpd00107_b' since it already exists.\n",
      "Ignoring reaction 'EX_cpd00242_b' since it already exists.\n",
      "Ignoring reaction 'EX_cpd00156_b' since it already exists.\n",
      "Ignoring reaction 'EX_cpd00156_e0' since it already exists.\n",
      "Ignoring reaction 'EX_cpd00644_b' since it already exists.\n",
      "Ignoring reaction 'EX_cpd00644_e0' since it already exists.\n",
      "Ignoring reaction 'EX_cpd03422_b' since it already exists.\n",
      "Ignoring reaction 'EX_cpd03422_e0' since it already exists.\n"
     ]
    },
    {
     "name": "stdout",
     "output_type": "stream",
     "text": [
      "1147\n"
     ]
    }
   ],
   "source": [
    "count=0\n",
    "for i in model2.reactions:\n",
    "    if(str(i.id)==\"EX_cpd11416_c0\"):\n",
    "        continue\n",
    "    reaction=model2.reactions.get_by_id(str(i.id))\n",
    "    reaction.reaction\n",
    "    count=count+1\n",
    "    model.add_reactions([reaction])\n",
    "        \n",
    "print(count)"
   ]
  },
  {
   "cell_type": "code",
   "execution_count": 34,
   "id": "4876738a",
   "metadata": {},
   "outputs": [
    {
     "name": "stderr",
     "output_type": "stream",
     "text": [
      "Ignoring reaction 'EX_cpd11416_b' since it already exists.\n",
      "Ignoring reaction 'EX_cpd04097_b' since it already exists.\n",
      "Ignoring reaction 'EX_cpd00971_b' since it already exists.\n",
      "Ignoring reaction 'EX_cpd01012_b' since it already exists.\n",
      "Ignoring reaction 'EX_cpd00001_b' since it already exists.\n",
      "Ignoring reaction 'EX_cpd00058_b' since it already exists.\n",
      "Ignoring reaction 'EX_cpd00013_b' since it already exists.\n",
      "Ignoring reaction 'EX_cpd00254_b' since it already exists.\n",
      "Ignoring reaction 'EX_cpd10516_b' since it already exists.\n",
      "Ignoring reaction 'EX_cpd00531_b' since it already exists.\n",
      "Ignoring reaction 'EX_cpd00067_b' since it already exists.\n",
      "Ignoring reaction 'EX_cpd00226_b' since it already exists.\n",
      "Ignoring reaction 'EX_cpd00007_b' since it already exists.\n",
      "Ignoring reaction 'EX_cpd00011_b' since it already exists.\n",
      "Ignoring reaction 'EX_cpd00034_b' since it already exists.\n",
      "Ignoring reaction 'EX_cpd03422_b' since it already exists.\n",
      "Ignoring reaction 'EX_cpd00215_b' since it already exists.\n",
      "Ignoring reaction 'EX_cpd00246_b' since it already exists.\n",
      "Ignoring reaction 'EX_cpd00367_b' since it already exists.\n",
      "Ignoring reaction 'EX_cpd00099_b' since it already exists.\n",
      "Ignoring reaction 'EX_cpd00205_b' since it already exists.\n",
      "Ignoring reaction 'EX_cpd01080_b' since it already exists.\n",
      "Ignoring reaction 'EX_cpd00156_b' since it already exists.\n",
      "Ignoring reaction 'EX_cpd00149_b' since it already exists.\n",
      "Ignoring reaction 'EX_cpd00039_b' since it already exists.\n",
      "Ignoring reaction 'EX_cpd00264_b' since it already exists.\n",
      "Ignoring reaction 'EX_cpd00793_b' since it already exists.\n",
      "Ignoring reaction 'EX_cpd00030_b' since it already exists.\n",
      "Ignoring reaction 'EX_cpd00220_b' since it already exists.\n",
      "Ignoring reaction 'EX_cpd15606_b' since it already exists.\n",
      "Ignoring reaction 'EX_cpd11606_b' since it already exists.\n",
      "Ignoring reaction 'EX_cpd00009_b' since it already exists.\n",
      "Ignoring reaction 'EX_cpd00051_b' since it already exists.\n",
      "Ignoring reaction 'EX_cpd15605_b' since it already exists.\n",
      "Ignoring reaction 'EX_cpd00048_b' since it already exists.\n",
      "Ignoring reaction 'EX_cpd00111_b' since it already exists.\n",
      "Ignoring reaction 'EX_cpd00322_b' since it already exists.\n",
      "Ignoring reaction 'EX_cpd00028_b' since it already exists.\n",
      "Ignoring reaction 'EX_cpd03847_b' since it already exists.\n",
      "Ignoring reaction 'EX_cpd04097_e0' since it already exists.\n",
      "Ignoring reaction 'EX_cpd00971_e0' since it already exists.\n",
      "Ignoring reaction 'EX_cpd01012_e0' since it already exists.\n",
      "Ignoring reaction 'EX_cpd00001_e0' since it already exists.\n",
      "Ignoring reaction 'EX_cpd00058_e0' since it already exists.\n",
      "Ignoring reaction 'EX_cpd00013_e0' since it already exists.\n",
      "Ignoring reaction 'EX_cpd00254_e0' since it already exists.\n",
      "Ignoring reaction 'EX_cpd10516_e0' since it already exists.\n",
      "Ignoring reaction 'EX_cpd00531_e0' since it already exists.\n",
      "Ignoring reaction 'EX_cpd00067_e0' since it already exists.\n",
      "Ignoring reaction 'EX_cpd00226_e0' since it already exists.\n",
      "Ignoring reaction 'EX_cpd00104_e0' since it already exists.\n",
      "Ignoring reaction 'EX_cpd00007_e0' since it already exists.\n",
      "Ignoring reaction 'EX_cpd00092_e0' since it already exists.\n",
      "Ignoring reaction 'EX_cpd00011_e0' since it already exists.\n",
      "Ignoring reaction 'EX_cpd00276_e0' since it already exists.\n",
      "Ignoring reaction 'EX_cpd00034_e0' since it already exists.\n",
      "Ignoring reaction 'EX_cpd03422_e0' since it already exists.\n",
      "Ignoring reaction 'EX_cpd00215_e0' since it already exists.\n",
      "Ignoring reaction 'EX_cpd11581_e0' since it already exists.\n",
      "Ignoring reaction 'EX_cpd00246_e0' since it already exists.\n",
      "Ignoring reaction 'EX_cpd00367_e0' since it already exists.\n",
      "Ignoring reaction 'EX_cpd00099_e0' since it already exists.\n",
      "Ignoring reaction 'EX_cpd00054_e0' since it already exists.\n",
      "Ignoring reaction 'EX_cpd00205_e0' since it already exists.\n",
      "Ignoring reaction 'EX_cpd11583_e0' since it already exists.\n",
      "Ignoring reaction 'EX_cpd01080_e0' since it already exists.\n",
      "Ignoring reaction 'EX_cpd00156_e0' since it already exists.\n",
      "Ignoring reaction 'EX_cpd00149_e0' since it already exists.\n",
      "Ignoring reaction 'EX_cpd00039_e0' since it already exists.\n",
      "Ignoring reaction 'EX_cpd00264_e0' since it already exists.\n",
      "Ignoring reaction 'EX_cpd11590_e0' since it already exists.\n",
      "Ignoring reaction 'EX_cpd15604_e0' since it already exists.\n",
      "Ignoring reaction 'EX_cpd00793_e0' since it already exists.\n",
      "Ignoring reaction 'EX_cpd00030_e0' since it already exists.\n",
      "Ignoring reaction 'EX_cpd01017_e0' since it already exists.\n",
      "Ignoring reaction 'EX_cpd00220_e0' since it already exists.\n",
      "Ignoring reaction 'EX_cpd15606_e0' since it already exists.\n",
      "Ignoring reaction 'EX_cpd11606_e0' since it already exists.\n",
      "Ignoring reaction 'EX_cpd00009_e0' since it already exists.\n",
      "Ignoring reaction 'EX_cpd00051_e0' since it already exists.\n",
      "Ignoring reaction 'EX_cpd15605_e0' since it already exists.\n",
      "Ignoring reaction 'EX_cpd00048_e0' since it already exists.\n",
      "Ignoring reaction 'EX_cpd00111_e0' since it already exists.\n",
      "Ignoring reaction 'EX_cpd11584_e0' since it already exists.\n",
      "Ignoring reaction 'EX_cpd00322_e0' since it already exists.\n",
      "Ignoring reaction 'EX_cpd00028_e0' since it already exists.\n",
      "Ignoring reaction 'EX_cpd03847_e0' since it already exists.\n",
      "Ignoring reaction 'EX_cpd00063_e0' since it already exists.\n",
      "Ignoring reaction 'EX_cpd00027_b' since it already exists.\n",
      "Ignoring reaction 'EX_cpd00047_b' since it already exists.\n",
      "Ignoring reaction 'EX_cpd00029_b' since it already exists.\n",
      "Ignoring reaction 'EX_cpd00242_b' since it already exists.\n",
      "Ignoring reaction 'EX_cpd00239_b' since it already exists.\n",
      "Ignoring reaction 'EX_H2S_TRANSPORTER_b' since it already exists.\n",
      "Ignoring reaction 'EX_cpd00055_b' since it already exists.\n",
      "Ignoring reaction 'EX_cpd00085_b' since it already exists.\n",
      "Ignoring reaction 'EX_cpd02882_b' since it already exists.\n",
      "Ignoring reaction 'EX_cpd00063_b' since it already exists.\n",
      "Ignoring reaction 'EX_cpd00027_e0' since it already exists.\n",
      "Ignoring reaction 'EX_cpd00644_b' since it already exists.\n",
      "Ignoring reaction 'EX_cpd00644_e0' since it already exists.\n",
      "Ignoring reaction 'EX_cpd00107_b' since it already exists.\n",
      "Ignoring reaction 'EX_cpd00107_e0' since it already exists.\n",
      "Ignoring reaction 'EX_cpd00528_b' since it already exists.\n",
      "Ignoring reaction 'EX_cpd00528_e0' since it already exists.\n",
      "Ignoring reaction 'EX_cpd00071_b' since it already exists.\n",
      "Ignoring reaction 'EX_cpd00071_e0' since it already exists.\n"
     ]
    },
    {
     "name": "stdout",
     "output_type": "stream",
     "text": [
      "995\n"
     ]
    }
   ],
   "source": [
    "count=0\n",
    "for i in model3.reactions:\n",
    "    if(str(i.id)==\"EX_cpd11416_c0\"):\n",
    "        continue\n",
    "    reaction=model3.reactions.get_by_id(str(i.id))\n",
    "    reaction.reaction\n",
    "    count=count+1\n",
    "    model.add_reactions([reaction])\n",
    "        \n",
    "print(count)"
   ]
  },
  {
   "cell_type": "code",
   "execution_count": 35,
   "id": "b69b953a",
   "metadata": {},
   "outputs": [
    {
     "name": "stderr",
     "output_type": "stream",
     "text": [
      "Ignoring reaction 'EX_cpd08636_b' since it already exists.\n",
      "Ignoring reaction 'EX_cpd15302_b' since it already exists.\n",
      "Ignoring reaction 'EX_cpd11416_b' since it already exists.\n",
      "Ignoring reaction 'EX_cpd00067_b' since it already exists.\n",
      "Ignoring reaction 'EX_cpd04097_b' since it already exists.\n",
      "Ignoring reaction 'EX_cpd01012_b' since it already exists.\n",
      "Ignoring reaction 'EX_cpd00276_b' since it already exists.\n",
      "Ignoring reaction 'EX_cpd00001_b' since it already exists.\n",
      "Ignoring reaction 'EX_cpd00023_b' since it already exists.\n",
      "Ignoring reaction 'EX_cpd00971_b' since it already exists.\n",
      "Ignoring reaction 'EX_cpd00058_b' since it already exists.\n",
      "Ignoring reaction 'EX_cpd11595_b' since it already exists.\n",
      "Ignoring reaction 'EX_cpd00013_b' since it already exists.\n",
      "Ignoring reaction 'EX_cpd01171_b' since it already exists.\n",
      "Ignoring reaction 'EX_cpd00154_b' since it already exists.\n",
      "Ignoring reaction 'EX_cpd00220_b' since it already exists.\n",
      "Ignoring reaction 'EX_cpd00117_b' since it already exists.\n",
      "Ignoring reaction 'EX_cpd00254_b' since it already exists.\n",
      "Ignoring reaction 'EX_cpd10516_b' since it already exists.\n",
      "Ignoring reaction 'EX_cpd00531_b' since it already exists.\n",
      "Ignoring reaction 'EX_cpd00027_b' since it already exists.\n",
      "Ignoring reaction 'EX_cpd00009_b' since it already exists.\n",
      "Ignoring reaction 'EX_cpd00226_b' since it already exists.\n",
      "Ignoring reaction 'EX_cpd00104_b' since it already exists.\n",
      "Ignoring reaction 'EX_cpd00007_b' since it already exists.\n",
      "Ignoring reaction 'EX_cpd00092_b' since it already exists.\n",
      "Ignoring reaction 'EX_cpd00011_b' since it already exists.\n",
      "Ignoring reaction 'EX_cpd00030_b' since it already exists.\n",
      "Ignoring reaction 'EX_cpd00149_b' since it already exists.\n",
      "Ignoring reaction 'EX_cpd00205_b' since it already exists.\n",
      "Ignoring reaction 'EX_cpd00099_b' since it already exists.\n",
      "Ignoring reaction 'EX_cpd00048_b' since it already exists.\n",
      "Ignoring reaction 'EX_cpd00034_b' since it already exists.\n",
      "Ignoring reaction 'EX_cpd00063_b' since it already exists.\n",
      "Ignoring reaction 'EX_cpd00067_e0' since it already exists.\n",
      "Ignoring reaction 'EX_cpd11576_e0' since it already exists.\n",
      "Ignoring reaction 'EX_cpd04097_e0' since it already exists.\n",
      "Ignoring reaction 'EX_cpd01030_e0' since it already exists.\n",
      "Ignoring reaction 'EX_cpd01012_e0' since it already exists.\n",
      "Ignoring reaction 'EX_cpd00276_e0' since it already exists.\n",
      "Ignoring reaction 'EX_cpd00082_e0' since it already exists.\n",
      "Ignoring reaction 'EX_cpd00001_e0' since it already exists.\n",
      "Ignoring reaction 'EX_cpd00023_e0' since it already exists.\n",
      "Ignoring reaction 'EX_cpd00971_e0' since it already exists.\n",
      "Ignoring reaction 'EX_cpd00058_e0' since it already exists.\n",
      "Ignoring reaction 'EX_cpd00314_e0' since it already exists.\n",
      "Ignoring reaction 'EX_cpd11595_e0' since it already exists.\n",
      "Ignoring reaction 'EX_cpd00013_e0' since it already exists.\n",
      "Ignoring reaction 'EX_cpd00179_e0' since it already exists.\n",
      "Ignoring reaction 'EX_cpd00060_e0' since it already exists.\n",
      "Ignoring reaction 'EX_cpd00076_e0' since it already exists.\n",
      "Ignoring reaction 'EX_cpd01171_e0' since it already exists.\n",
      "Ignoring reaction 'EX_cpd00154_e0' since it already exists.\n",
      "Ignoring reaction 'EX_cpd00637_e0' since it already exists.\n",
      "Ignoring reaction 'EX_cpd00122_e0' since it already exists.\n",
      "Ignoring reaction 'EX_cpd03696_e0' since it already exists.\n",
      "Ignoring reaction 'EX_cpd00220_e0' since it already exists.\n",
      "Ignoring reaction 'EX_cpd00588_e0' since it already exists.\n",
      "Ignoring reaction 'EX_cpd00117_e0' since it already exists.\n",
      "Ignoring reaction 'EX_cpd00254_e0' since it already exists.\n",
      "Ignoring reaction 'EX_cpd00138_e0' since it already exists.\n",
      "Ignoring reaction 'EX_cpd10516_e0' since it already exists.\n",
      "Ignoring reaction 'EX_cpd01914_e0' since it already exists.\n",
      "Ignoring reaction 'EX_cpd00531_e0' since it already exists.\n",
      "Ignoring reaction 'EX_cpd00027_e0' since it already exists.\n",
      "Ignoring reaction 'EX_cpd00009_e0' since it already exists.\n",
      "Ignoring reaction 'EX_cpd00794_e0' since it already exists.\n",
      "Ignoring reaction 'EX_cpd00226_e0' since it already exists.\n",
      "Ignoring reaction 'EX_cpd00104_e0' since it already exists.\n",
      "Ignoring reaction 'EX_cpd00007_e0' since it already exists.\n",
      "Ignoring reaction 'EX_cpd00092_e0' since it already exists.\n",
      "Ignoring reaction 'EX_cpd00158_e0' since it already exists.\n",
      "Ignoring reaction 'EX_cpd00011_e0' since it already exists.\n",
      "Ignoring reaction 'EX_cpd00030_e0' since it already exists.\n",
      "Ignoring reaction 'EX_cpd00149_e0' since it already exists.\n",
      "Ignoring reaction 'EX_cpd00205_e0' since it already exists.\n",
      "Ignoring reaction 'EX_cpd00099_e0' since it already exists.\n",
      "Ignoring reaction 'EX_cpd00048_e0' since it already exists.\n",
      "Ignoring reaction 'EX_cpd00034_e0' since it already exists.\n",
      "Ignoring reaction 'EX_cpd00063_e0' since it already exists.\n"
     ]
    },
    {
     "name": "stdout",
     "output_type": "stream",
     "text": [
      "1110\n"
     ]
    }
   ],
   "source": [
    "count=0\n",
    "for i in model4.reactions:\n",
    "    if(str(i.id)==\"EX_cpd11416_c0\"):\n",
    "        continue\n",
    "    reaction=model4.reactions.get_by_id(str(i.id))\n",
    "    reaction.reaction\n",
    "    count=count+1\n",
    "    model.add_reactions([reaction])\n",
    "        \n",
    "print(count)"
   ]
  },
  {
   "cell_type": "code",
   "execution_count": 36,
   "id": "5c0c5279",
   "metadata": {},
   "outputs": [
    {
     "name": "stdout",
     "output_type": "stream",
     "text": [
      "4161\n",
      "4398\n",
      "1824\n"
     ]
    }
   ],
   "source": [
    "print(len(model.reactions))\n",
    "print(len(model.metabolites))\n",
    "print(len(model.genes))"
   ]
  },
  {
   "cell_type": "code",
   "execution_count": 37,
   "id": "f02767d7",
   "metadata": {},
   "outputs": [],
   "source": [
    "from cobra import Metabolite\n",
    "cpd11416_c0 = Metabolite(\n",
    "    'cpd11416_c0',\n",
    "    name='Complete_Biomass',\n",
    "    compartment='c0'\n",
    "    )"
   ]
  },
  {
   "cell_type": "code",
   "execution_count": 38,
   "id": "23925a97",
   "metadata": {},
   "outputs": [],
   "source": [
    "from cobra import Metabolite\n",
    "cpd11416_b = Metabolite(\n",
    "    'cpd11416_b',\n",
    "    name='Complete_Biomass',\n",
    "    compartment='e0'\n",
    "    )"
   ]
  },
  {
   "cell_type": "code",
   "execution_count": 39,
   "id": "04daf1b8",
   "metadata": {},
   "outputs": [],
   "source": [
    "# Integration of individual models"
   ]
  },
  {
   "cell_type": "code",
   "execution_count": 40,
   "id": "03847cd2",
   "metadata": {},
   "outputs": [
    {
     "name": "stdout",
     "output_type": "stream",
     "text": [
      "1110\n"
     ]
    }
   ],
   "source": [
    "reaction = Reaction('Bio1')\n",
    "reaction.name = ('Community_biomass')\n",
    "reaction.lower_bound = 0\n",
    "reaction.upper_bound = 1000\n",
    "\n",
    "reaction.add_metabolites({model1.metabolites.get_by_id(\"cpd11416_c0lr\"): -0.25,\n",
    "                          model2.metabolites.get_by_id(\"cpd11416_c0pc\"): -0.25,\n",
    "                          model3.metabolites.get_by_id(\"cpd11416_c0ms\"): -0.25,\n",
    "                          model4.metabolites.get_by_id(\"cpd11416_c0fp\"): -0.25,\n",
    "                          cpd11416_c0: 1\n",
    "                         })\n",
    "\n",
    "        \n",
    "reaction.reaction\n",
    "model.add_reactions([reaction])\n",
    "print(count)"
   ]
  },
  {
   "cell_type": "code",
   "execution_count": 41,
   "id": "b749c647",
   "metadata": {},
   "outputs": [
    {
     "data": {
      "text/plain": [
       "'0.25 cpd11416_c0fp + 0.25 cpd11416_c0lr + 0.25 cpd11416_c0ms + 0.25 cpd11416_c0pc --> cpd11416_c0'"
      ]
     },
     "execution_count": 41,
     "metadata": {},
     "output_type": "execute_result"
    }
   ],
   "source": [
    "model.reactions.Bio1.reaction"
   ]
  },
  {
   "cell_type": "code",
   "execution_count": 42,
   "id": "8700eba6",
   "metadata": {},
   "outputs": [],
   "source": [
    "reaction = Reaction('EX_cpd11416_c0')\n",
    "reaction.name = ('EX_cpd11416_c0')\n",
    "reaction.lower_bound = 0\n",
    "reaction.upper_bound = 1000\n",
    "\n",
    "reaction.add_metabolites({\n",
    "                          model.metabolites.get_by_id(\"cpd11416_c0\"): -1,\n",
    "                          cpd11416_b: 1\n",
    "                        })\n",
    "\n",
    "        \n",
    "reaction.reaction\n",
    "model.add_reactions([reaction])"
   ]
  },
  {
   "cell_type": "code",
   "execution_count": 43,
   "id": "687aac23",
   "metadata": {},
   "outputs": [],
   "source": [
    "model.objective = 'Bio1'"
   ]
  },
  {
   "cell_type": "code",
   "execution_count": 44,
   "id": "e0569f0b",
   "metadata": {},
   "outputs": [],
   "source": [
    "model.reactions.EX_cpd00013_b.bounds = (-10.0, 10.0)"
   ]
  },
  {
   "cell_type": "code",
   "execution_count": 45,
   "id": "97906e54",
   "metadata": {},
   "outputs": [
    {
     "data": {
      "text/plain": [
       "0.33870606407240755"
      ]
     },
     "execution_count": 45,
     "metadata": {},
     "output_type": "execute_result"
    }
   ],
   "source": [
    "model.slim_optimize()"
   ]
  },
  {
   "cell_type": "code",
   "execution_count": 46,
   "id": "650d79f4",
   "metadata": {},
   "outputs": [
    {
     "name": "stdout",
     "output_type": "stream",
     "text": [
      "Objective\n",
      "=========\n",
      "1.0 Bio1 = 0.33870606407240267\n",
      "\n",
      "Uptake\n",
      "------\n",
      "   Metabolite      Reaction      Flux  C-Number C-Flux\n",
      "   cpd00007_b EX_cpd00007_b      3.97         0  0.00%\n",
      "   cpd00009_b EX_cpd00009_b    0.1698         0  0.00%\n",
      "   cpd00013_b EX_cpd00013_b        10         0  0.00%\n",
      "   cpd00027_b EX_cpd00027_b      4.22         6 24.19%\n",
      "   cpd00030_b EX_cpd00030_b  0.001869         0  0.00%\n",
      "   cpd00034_b EX_cpd00034_b  0.001869         0  0.00%\n",
      "   cpd00047_b EX_cpd00047_b     20.46         1 19.55%\n",
      "   cpd00048_b EX_cpd00048_b   0.01966         0  0.00%\n",
      "   cpd00055_b EX_cpd00055_b     10.01         1  9.56%\n",
      "   cpd00058_b EX_cpd00058_b  0.001869         0  0.00%\n",
      "   cpd00063_b EX_cpd00063_b  0.001869         0  0.00%\n",
      "   cpd00085_b EX_cpd00085_b     5.171         3 14.82%\n",
      "   cpd00099_b EX_cpd00099_b  0.001869         0  0.00%\n",
      "   cpd00106_b EX_cpd00106_b      1.45         4  5.54%\n",
      "   cpd00107_b EX_cpd00107_b    0.1132         6  0.65%\n",
      "   cpd00149_b EX_cpd00149_b  0.001607         0  0.00%\n",
      "   cpd00156_b EX_cpd00156_b     5.256         5 25.11%\n",
      "   cpd00205_b EX_cpd00205_b  0.001869         0  0.00%\n",
      "   cpd00215_b EX_cpd00215_b  0.001197         8  0.01%\n",
      "   cpd00220_b EX_cpd00220_b  0.003214        17  0.05%\n",
      "   cpd00239_b EX_cpd00239_b   0.05256         0  0.00%\n",
      "   cpd00254_b EX_cpd00254_b  0.001869         0  0.00%\n",
      "   cpd00322_b EX_cpd00322_b   0.08409         6  0.48%\n",
      "   cpd00528_b EX_cpd00528_b     2.351         0  0.00%\n",
      "   cpd00793_b EX_cpd00793_b 0.0005244        12  0.01%\n",
      "   cpd02882_b EX_cpd02882_b 0.0005244         9  0.00%\n",
      "   cpd03422_b EX_cpd03422_b 0.0002622        48  0.01%\n",
      "   cpd10516_b EX_cpd10516_b  0.002656         0  0.00%\n",
      "cpd17041_c0fp rxn13782_c0fp   0.08468         0  0.00%\n",
      "cpd17041_c0lr rxn13782_c0lr   0.08468         0  0.00%\n",
      "cpd17041_c0ms rxn13782_c0ms   0.08468         0  0.00%\n",
      "cpd17041_c0pc rxn13782_c0pc   0.08468         0  0.00%\n",
      "cpd17042_c0fp rxn13783_c0fp   0.08468         0  0.00%\n",
      "cpd17042_c0lr rxn13783_c0lr   0.08468         0  0.00%\n",
      "cpd17042_c0ms rxn13783_c0ms   0.08468         0  0.00%\n",
      "cpd17042_c0pc rxn13783_c0pc   0.08468         0  0.00%\n",
      "cpd17043_c0fp rxn13784_c0fp   0.08468         0  0.00%\n",
      "cpd17043_c0lr rxn13784_c0lr   0.08468         0  0.00%\n",
      "cpd17043_c0ms rxn13784_c0ms   0.08468         0  0.00%\n",
      "cpd17043_c0pc rxn13784_c0pc   0.08468         0  0.00%\n",
      "\n",
      "Secretion\n",
      "---------\n",
      "Metabolite      Reaction      Flux  C-Number C-Flux\n",
      "cpd00001_b EX_cpd00001_b    -36.33         0  0.00%\n",
      "cpd00029_b EX_cpd00029_b    -11.59         2 22.01%\n",
      "cpd00036_b EX_cpd00036_b -0.001345         0  0.00%\n",
      "cpd00067_b EX_cpd00067_b    -21.33         1 20.25%\n",
      "cpd00100_b EX_cpd00100_b -0.001454         3  0.00%\n",
      "cpd00133_b EX_cpd00133_b   -0.2192         0  0.00%\n",
      "cpd00242_b EX_cpd00242_b    -13.27         1 12.60%\n",
      "cpd00644_b EX_cpd00644_b    -5.169         9 44.17%\n",
      "cpd11416_b EX_cpd11416_b   -0.3387         3  0.96%\n",
      "\n"
     ]
    }
   ],
   "source": [
    "print(model.summary())"
   ]
  },
  {
   "cell_type": "code",
   "execution_count": 47,
   "id": "fa81ab81",
   "metadata": {},
   "outputs": [],
   "source": [
    "cobra.io.write_sbml_model(model,'CM.xml')"
   ]
  },
  {
   "cell_type": "code",
   "execution_count": 48,
   "id": "294f2496",
   "metadata": {},
   "outputs": [],
   "source": [
    "# Change the microbial composition as per the HC gut environment (HC)\n",
    "model.reactions.Bio1.add_metabolites({model1.metabolites.get_by_id(\"cpd11416_c0lr\"): -0.143,\n",
    "                          model2.metabolites.get_by_id(\"cpd11416_c0pc\"): -40.16,\n",
    "                          model3.metabolites.get_by_id(\"cpd11416_c0ms\"): 0.227,\n",
    "                          model4.metabolites.get_by_id(\"cpd11416_c0fp\"): -3.875\n",
    "                         })"
   ]
  },
  {
   "cell_type": "code",
   "execution_count": 49,
   "id": "c5a85545",
   "metadata": {},
   "outputs": [
    {
     "data": {
      "text/plain": [
       "'4.125 cpd11416_c0fp + 0.393 cpd11416_c0lr + 0.022999999999999993 cpd11416_c0ms + 40.41 cpd11416_c0pc --> cpd11416_c0'"
      ]
     },
     "execution_count": 49,
     "metadata": {},
     "output_type": "execute_result"
    }
   ],
   "source": [
    "model.reactions.Bio1.reaction"
   ]
  },
  {
   "cell_type": "code",
   "execution_count": 50,
   "id": "a6a09107",
   "metadata": {},
   "outputs": [],
   "source": [
    "# Change the microbial composition as per the T2D gut environment (T2D)\n",
    "model.reactions.Bio1.add_metabolites({model1.metabolites.get_by_id(\"cpd11416_c0lr\"): -0.57,\n",
    "                          model2.metabolites.get_by_id(\"cpd11416_c0pc\"): 12.58,\n",
    "                          model3.metabolites.get_by_id(\"cpd11416_c0ms\"): -0.257,\n",
    "                          model4.metabolites.get_by_id(\"cpd11416_c0fp\"): 1.306\n",
    "                         })"
   ]
  },
  {
   "cell_type": "code",
   "execution_count": 51,
   "id": "b0b4f45a",
   "metadata": {},
   "outputs": [
    {
     "data": {
      "text/plain": [
       "'2.819 cpd11416_c0fp + 0.963 cpd11416_c0lr + 0.28 cpd11416_c0ms + 27.83 cpd11416_c0pc --> cpd11416_c0'"
      ]
     },
     "execution_count": 51,
     "metadata": {},
     "output_type": "execute_result"
    }
   ],
   "source": [
    "model.reactions.Bio1.reaction"
   ]
  }
 ],
 "metadata": {
  "kernelspec": {
   "display_name": "Python 3 (ipykernel)",
   "language": "python",
   "name": "python3"
  },
  "language_info": {
   "codemirror_mode": {
    "name": "ipython",
    "version": 3
   },
   "file_extension": ".py",
   "mimetype": "text/x-python",
   "name": "python",
   "nbconvert_exporter": "python",
   "pygments_lexer": "ipython3",
   "version": "3.11.4"
  }
 },
 "nbformat": 4,
 "nbformat_minor": 5
}
